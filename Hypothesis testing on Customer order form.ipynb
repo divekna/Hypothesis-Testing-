{
 "cells": [
  {
   "cell_type": "code",
   "execution_count": 17,
   "id": "b2a75cb6",
   "metadata": {},
   "outputs": [],
   "source": [
    "import pandas as pd\n",
    "import numpy as np\n",
    "import scipy.stats as stats"
   ]
  },
  {
   "cell_type": "code",
   "execution_count": 5,
   "id": "e574fb6c",
   "metadata": {
    "scrolled": true
   },
   "outputs": [
    {
     "data": {
      "text/html": [
       "<div>\n",
       "<style scoped>\n",
       "    .dataframe tbody tr th:only-of-type {\n",
       "        vertical-align: middle;\n",
       "    }\n",
       "\n",
       "    .dataframe tbody tr th {\n",
       "        vertical-align: top;\n",
       "    }\n",
       "\n",
       "    .dataframe thead th {\n",
       "        text-align: right;\n",
       "    }\n",
       "</style>\n",
       "<table border=\"1\" class=\"dataframe\">\n",
       "  <thead>\n",
       "    <tr style=\"text-align: right;\">\n",
       "      <th></th>\n",
       "      <th>Phillippines</th>\n",
       "      <th>Indonesia</th>\n",
       "      <th>Malta</th>\n",
       "      <th>India</th>\n",
       "    </tr>\n",
       "  </thead>\n",
       "  <tbody>\n",
       "    <tr>\n",
       "      <th>0</th>\n",
       "      <td>Error Free</td>\n",
       "      <td>Error Free</td>\n",
       "      <td>Defective</td>\n",
       "      <td>Error Free</td>\n",
       "    </tr>\n",
       "    <tr>\n",
       "      <th>1</th>\n",
       "      <td>Error Free</td>\n",
       "      <td>Error Free</td>\n",
       "      <td>Error Free</td>\n",
       "      <td>Defective</td>\n",
       "    </tr>\n",
       "    <tr>\n",
       "      <th>2</th>\n",
       "      <td>Error Free</td>\n",
       "      <td>Defective</td>\n",
       "      <td>Defective</td>\n",
       "      <td>Error Free</td>\n",
       "    </tr>\n",
       "    <tr>\n",
       "      <th>3</th>\n",
       "      <td>Error Free</td>\n",
       "      <td>Error Free</td>\n",
       "      <td>Error Free</td>\n",
       "      <td>Error Free</td>\n",
       "    </tr>\n",
       "    <tr>\n",
       "      <th>4</th>\n",
       "      <td>Error Free</td>\n",
       "      <td>Error Free</td>\n",
       "      <td>Defective</td>\n",
       "      <td>Error Free</td>\n",
       "    </tr>\n",
       "  </tbody>\n",
       "</table>\n",
       "</div>"
      ],
      "text/plain": [
       "  Phillippines   Indonesia       Malta       India\n",
       "0   Error Free  Error Free   Defective  Error Free\n",
       "1   Error Free  Error Free  Error Free   Defective\n",
       "2   Error Free   Defective   Defective  Error Free\n",
       "3   Error Free  Error Free  Error Free  Error Free\n",
       "4   Error Free  Error Free   Defective  Error Free"
      ]
     },
     "execution_count": 5,
     "metadata": {},
     "output_type": "execute_result"
    }
   ],
   "source": [
    "data1 = pd.read_csv('Costomer+OrderForm (1).csv',sep=',')\n",
    "data1.head()"
   ]
  },
  {
   "cell_type": "code",
   "execution_count": 6,
   "id": "0b9edf73",
   "metadata": {},
   "outputs": [
    {
     "data": {
      "text/plain": [
       "(300, 4)"
      ]
     },
     "execution_count": 6,
     "metadata": {},
     "output_type": "execute_result"
    }
   ],
   "source": [
    "data1.shape"
   ]
  },
  {
   "cell_type": "code",
   "execution_count": 7,
   "id": "29442ea4",
   "metadata": {},
   "outputs": [
    {
     "data": {
      "text/plain": [
       "Phillippines    object\n",
       "Indonesia       object\n",
       "Malta           object\n",
       "India           object\n",
       "dtype: object"
      ]
     },
     "execution_count": 7,
     "metadata": {},
     "output_type": "execute_result"
    }
   ],
   "source": [
    "data1.dtypes"
   ]
  },
  {
   "cell_type": "code",
   "execution_count": 8,
   "id": "79b423d6",
   "metadata": {},
   "outputs": [
    {
     "data": {
      "text/plain": [
       "Phillippines    0\n",
       "Indonesia       0\n",
       "Malta           0\n",
       "India           0\n",
       "dtype: int64"
      ]
     },
     "execution_count": 8,
     "metadata": {},
     "output_type": "execute_result"
    }
   ],
   "source": [
    "data1.isnull().sum()"
   ]
  },
  {
   "cell_type": "markdown",
   "id": "63e68d17",
   "metadata": {},
   "source": [
    "## 1. Hypothesis Formulation"
   ]
  },
  {
   "cell_type": "code",
   "execution_count": null,
   "id": "64ee695f",
   "metadata": {},
   "outputs": [],
   "source": [
    "# H0: There is no significant difference in defective percentage in the four centers.\n",
    "# Ha: There is a significant difference in defective percentage in the four centers."
   ]
  },
  {
   "cell_type": "code",
   "execution_count": 21,
   "id": "37ea9c00",
   "metadata": {},
   "outputs": [
    {
     "data": {
      "text/html": [
       "<div>\n",
       "<style scoped>\n",
       "    .dataframe tbody tr th:only-of-type {\n",
       "        vertical-align: middle;\n",
       "    }\n",
       "\n",
       "    .dataframe tbody tr th {\n",
       "        vertical-align: top;\n",
       "    }\n",
       "\n",
       "    .dataframe thead th {\n",
       "        text-align: right;\n",
       "    }\n",
       "</style>\n",
       "<table border=\"1\" class=\"dataframe\">\n",
       "  <thead>\n",
       "    <tr style=\"text-align: right;\">\n",
       "      <th>Indonesia</th>\n",
       "      <th>Defective</th>\n",
       "      <th>Error Free</th>\n",
       "    </tr>\n",
       "    <tr>\n",
       "      <th>Phillippines</th>\n",
       "      <th></th>\n",
       "      <th></th>\n",
       "    </tr>\n",
       "  </thead>\n",
       "  <tbody>\n",
       "    <tr>\n",
       "      <th>Defective</th>\n",
       "      <td>2</td>\n",
       "      <td>27</td>\n",
       "    </tr>\n",
       "    <tr>\n",
       "      <th>Error Free</th>\n",
       "      <td>31</td>\n",
       "      <td>240</td>\n",
       "    </tr>\n",
       "  </tbody>\n",
       "</table>\n",
       "</div>"
      ],
      "text/plain": [
       "Indonesia     Defective  Error Free\n",
       "Phillippines                       \n",
       "Defective             2          27\n",
       "Error Free           31         240"
      ]
     },
     "execution_count": 21,
     "metadata": {},
     "output_type": "execute_result"
    }
   ],
   "source": [
    "p_i = pd.crosstab(index=data1['Phillippines'] ,columns=data1['Indonesia'])\n",
    "p_i"
   ]
  },
  {
   "cell_type": "code",
   "execution_count": 51,
   "id": "ae044add",
   "metadata": {},
   "outputs": [],
   "source": [
    "chi_val3,pval3,df3,expected_value3 = stats.chi2_contingency(p_i)"
   ]
  },
  {
   "cell_type": "code",
   "execution_count": 49,
   "id": "f3d19d4b",
   "metadata": {},
   "outputs": [
    {
     "name": "stdout",
     "output_type": "stream",
     "text": [
      "chi_squared value: 0.11520004362605206 \n",
      " pval: 0.7342998926385209 \n",
      " Degrees of Freedom: 1\n",
      " Expected Value: [[  1.93333333  27.06666667]\n",
      " [ 18.06666667 252.93333333]]\n"
     ]
    }
   ],
   "source": [
    "print('chi_squared value: {} \\n pval: {} \\n Degrees of Freedom: {}\\n Expected Value: {}'.format(chi_val3,pval3,df3,expected_value3))"
   ]
  },
  {
   "cell_type": "code",
   "execution_count": 69,
   "id": "758b7786",
   "metadata": {},
   "outputs": [
    {
     "name": "stdout",
     "output_type": "stream",
     "text": [
      "We do not reject the null hypothesis saying that there is no signifiacnt difference in defective percentage in the four centers\n"
     ]
    }
   ],
   "source": [
    "if pval3<= 0.05:\n",
    "    print('We reject the null hypothesis saying that there is a signifiacnt difference in defective percentage in the four centers. ')\n",
    "else:\n",
    "    print('We do not reject the null hypothesis saying that there is no signifiacnt difference in defective percentage in the four centers')"
   ]
  },
  {
   "cell_type": "code",
   "execution_count": 25,
   "id": "7dc97909",
   "metadata": {},
   "outputs": [
    {
     "data": {
      "text/html": [
       "<div>\n",
       "<style scoped>\n",
       "    .dataframe tbody tr th:only-of-type {\n",
       "        vertical-align: middle;\n",
       "    }\n",
       "\n",
       "    .dataframe tbody tr th {\n",
       "        vertical-align: top;\n",
       "    }\n",
       "\n",
       "    .dataframe thead th {\n",
       "        text-align: right;\n",
       "    }\n",
       "</style>\n",
       "<table border=\"1\" class=\"dataframe\">\n",
       "  <thead>\n",
       "    <tr style=\"text-align: right;\">\n",
       "      <th>Malta</th>\n",
       "      <th>Defective</th>\n",
       "      <th>Error Free</th>\n",
       "    </tr>\n",
       "    <tr>\n",
       "      <th>Phillippines</th>\n",
       "      <th></th>\n",
       "      <th></th>\n",
       "    </tr>\n",
       "  </thead>\n",
       "  <tbody>\n",
       "    <tr>\n",
       "      <th>Defective</th>\n",
       "      <td>4</td>\n",
       "      <td>25</td>\n",
       "    </tr>\n",
       "    <tr>\n",
       "      <th>Error Free</th>\n",
       "      <td>27</td>\n",
       "      <td>244</td>\n",
       "    </tr>\n",
       "  </tbody>\n",
       "</table>\n",
       "</div>"
      ],
      "text/plain": [
       "Malta         Defective  Error Free\n",
       "Phillippines                       \n",
       "Defective             4          25\n",
       "Error Free           27         244"
      ]
     },
     "execution_count": 25,
     "metadata": {},
     "output_type": "execute_result"
    }
   ],
   "source": [
    "p_m = pd.crosstab(index=data1['Phillippines'] ,columns=data1['Malta'])\n",
    "p_m"
   ]
  },
  {
   "cell_type": "code",
   "execution_count": 54,
   "id": "d7454f7c",
   "metadata": {},
   "outputs": [],
   "source": [
    "chi_val4,pval4,df4,expected_value4 = stats.chi2_contingency(p_m)"
   ]
  },
  {
   "cell_type": "code",
   "execution_count": 53,
   "id": "8952fb52",
   "metadata": {},
   "outputs": [
    {
     "name": "stdout",
     "output_type": "stream",
     "text": [
      "chi_squared value: 0.1043743747062788 \n",
      " pval: 0.7466420539639729 \n",
      " Degrees of Freedom: 1\n",
      " Expected Value: [[  2.99666667  26.00333333]\n",
      " [ 28.00333333 242.99666667]]\n"
     ]
    }
   ],
   "source": [
    "print('chi_squared value: {} \\n pval: {} \\n Degrees of Freedom: {}\\n Expected Value: {}'.format(chi_val4,pval4,df4,expected_value4))"
   ]
  },
  {
   "cell_type": "code",
   "execution_count": 72,
   "id": "9adc48ed",
   "metadata": {},
   "outputs": [
    {
     "name": "stdout",
     "output_type": "stream",
     "text": [
      "We do not reject the null hypothesis saying that there is no signifiacnt difference in the defective percentage in the four centers\n"
     ]
    }
   ],
   "source": [
    "if pval4<= 0.05:\n",
    "    print('We reject the null hypothesis saying that there is a signifiacnt difference in defective percentage in the four centers. ')\n",
    "else:\n",
    "    print('We do not reject the null hypothesis saying that there is no signifiacnt difference in the defective percentage in the four centers')"
   ]
  },
  {
   "cell_type": "code",
   "execution_count": 33,
   "id": "0b66a0e5",
   "metadata": {},
   "outputs": [
    {
     "data": {
      "text/html": [
       "<div>\n",
       "<style scoped>\n",
       "    .dataframe tbody tr th:only-of-type {\n",
       "        vertical-align: middle;\n",
       "    }\n",
       "\n",
       "    .dataframe tbody tr th {\n",
       "        vertical-align: top;\n",
       "    }\n",
       "\n",
       "    .dataframe thead th {\n",
       "        text-align: right;\n",
       "    }\n",
       "</style>\n",
       "<table border=\"1\" class=\"dataframe\">\n",
       "  <thead>\n",
       "    <tr style=\"text-align: right;\">\n",
       "      <th>India</th>\n",
       "      <th>Defective</th>\n",
       "      <th>Error Free</th>\n",
       "    </tr>\n",
       "    <tr>\n",
       "      <th>Phillippines</th>\n",
       "      <th></th>\n",
       "      <th></th>\n",
       "    </tr>\n",
       "  </thead>\n",
       "  <tbody>\n",
       "    <tr>\n",
       "      <th>Defective</th>\n",
       "      <td>2</td>\n",
       "      <td>27</td>\n",
       "    </tr>\n",
       "    <tr>\n",
       "      <th>Error Free</th>\n",
       "      <td>18</td>\n",
       "      <td>253</td>\n",
       "    </tr>\n",
       "  </tbody>\n",
       "</table>\n",
       "</div>"
      ],
      "text/plain": [
       "India         Defective  Error Free\n",
       "Phillippines                       \n",
       "Defective             2          27\n",
       "Error Free           18         253"
      ]
     },
     "execution_count": 33,
     "metadata": {},
     "output_type": "execute_result"
    }
   ],
   "source": [
    "p_in = pd.crosstab(index=data1['Phillippines'] ,columns=data1['India'])\n",
    "p_in"
   ]
  },
  {
   "cell_type": "code",
   "execution_count": 57,
   "id": "6b22a511",
   "metadata": {},
   "outputs": [],
   "source": [
    "chi_val5,pval5,df5,expected_value5 = stats.chi2_contingency(p_in)"
   ]
  },
  {
   "cell_type": "code",
   "execution_count": 56,
   "id": "58da77db",
   "metadata": {},
   "outputs": [
    {
     "name": "stdout",
     "output_type": "stream",
     "text": [
      "chi_squared value: 0.11520004362605206 \n",
      " pval: 0.7342998926385209 \n",
      " Degrees of Freedom: 1\n",
      " Expected Value: [[  1.93333333  27.06666667]\n",
      " [ 18.06666667 252.93333333]]\n"
     ]
    }
   ],
   "source": [
    "print('chi_squared value: {} \\n pval: {} \\n Degrees of Freedom: {}\\n Expected Value: {}'.format(chi_val5,pval5,df5,expected_value5))"
   ]
  },
  {
   "cell_type": "code",
   "execution_count": 71,
   "id": "41028d35",
   "metadata": {},
   "outputs": [
    {
     "name": "stdout",
     "output_type": "stream",
     "text": [
      "We do not reject the null hypothesis saying that there is no signifiacnt difference in defective percentage in the four centers\n"
     ]
    }
   ],
   "source": [
    "if pval5<= 0.05:\n",
    "    print('We reject the null hypothesis saying that there is a signifiacnt difference in defective percentage in the four centers. ')\n",
    "else:\n",
    "    print('We do not reject the null hypothesis saying that there is no signifiacnt difference in defective percentage in the four centers')"
   ]
  },
  {
   "cell_type": "code",
   "execution_count": 29,
   "id": "e0021f04",
   "metadata": {},
   "outputs": [
    {
     "data": {
      "text/html": [
       "<div>\n",
       "<style scoped>\n",
       "    .dataframe tbody tr th:only-of-type {\n",
       "        vertical-align: middle;\n",
       "    }\n",
       "\n",
       "    .dataframe tbody tr th {\n",
       "        vertical-align: top;\n",
       "    }\n",
       "\n",
       "    .dataframe thead th {\n",
       "        text-align: right;\n",
       "    }\n",
       "</style>\n",
       "<table border=\"1\" class=\"dataframe\">\n",
       "  <thead>\n",
       "    <tr style=\"text-align: right;\">\n",
       "      <th>India</th>\n",
       "      <th>Defective</th>\n",
       "      <th>Error Free</th>\n",
       "    </tr>\n",
       "    <tr>\n",
       "      <th>Indonesia</th>\n",
       "      <th></th>\n",
       "      <th></th>\n",
       "    </tr>\n",
       "  </thead>\n",
       "  <tbody>\n",
       "    <tr>\n",
       "      <th>Defective</th>\n",
       "      <td>2</td>\n",
       "      <td>31</td>\n",
       "    </tr>\n",
       "    <tr>\n",
       "      <th>Error Free</th>\n",
       "      <td>18</td>\n",
       "      <td>249</td>\n",
       "    </tr>\n",
       "  </tbody>\n",
       "</table>\n",
       "</div>"
      ],
      "text/plain": [
       "India       Defective  Error Free\n",
       "Indonesia                        \n",
       "Defective           2          31\n",
       "Error Free         18         249"
      ]
     },
     "execution_count": 29,
     "metadata": {},
     "output_type": "execute_result"
    }
   ],
   "source": [
    "i_i = pd.crosstab(index=data1['Indonesia'] ,columns=data1['India'])\n",
    "i_i"
   ]
  },
  {
   "cell_type": "code",
   "execution_count": 60,
   "id": "51a272c8",
   "metadata": {},
   "outputs": [],
   "source": [
    "chi_val6,pval6,df6,expected_value6 = stats.chi2_contingency(i_i)"
   ]
  },
  {
   "cell_type": "code",
   "execution_count": 59,
   "id": "adc64e1a",
   "metadata": {},
   "outputs": [
    {
     "name": "stdout",
     "output_type": "stream",
     "text": [
      "chi_squared value: 0.049248504304684096 \n",
      " pval: 0.8243761295490989 \n",
      " Degrees of Freedom: 1\n",
      " Expected Value: [[  2.2  30.8]\n",
      " [ 17.8 249.2]]\n"
     ]
    }
   ],
   "source": [
    "print('chi_squared value: {} \\n pval: {} \\n Degrees of Freedom: {}\\n Expected Value: {}'.format(chi_val6,pval6,df6,expected_value6))"
   ]
  },
  {
   "cell_type": "code",
   "execution_count": 65,
   "id": "60b45495",
   "metadata": {},
   "outputs": [
    {
     "name": "stdout",
     "output_type": "stream",
     "text": [
      "We do not reject the null hypothesis saying that there is no signifiacnt difference in defective percentage in the four centers\n"
     ]
    }
   ],
   "source": [
    "if pval6<= 0.05:\n",
    "    print('We reject the null hypothesis saying that there is a signifiacnt difference in defective percentage in the four centers')\n",
    "else:\n",
    "    print('We do not reject the null hypothesis saying that there is no signifiacnt difference in defective percentage in the four centers')"
   ]
  },
  {
   "cell_type": "code",
   "execution_count": 31,
   "id": "8538337f",
   "metadata": {},
   "outputs": [
    {
     "data": {
      "text/html": [
       "<div>\n",
       "<style scoped>\n",
       "    .dataframe tbody tr th:only-of-type {\n",
       "        vertical-align: middle;\n",
       "    }\n",
       "\n",
       "    .dataframe tbody tr th {\n",
       "        vertical-align: top;\n",
       "    }\n",
       "\n",
       "    .dataframe thead th {\n",
       "        text-align: right;\n",
       "    }\n",
       "</style>\n",
       "<table border=\"1\" class=\"dataframe\">\n",
       "  <thead>\n",
       "    <tr style=\"text-align: right;\">\n",
       "      <th>Malta</th>\n",
       "      <th>Defective</th>\n",
       "      <th>Error Free</th>\n",
       "    </tr>\n",
       "    <tr>\n",
       "      <th>Indonesia</th>\n",
       "      <th></th>\n",
       "      <th></th>\n",
       "    </tr>\n",
       "  </thead>\n",
       "  <tbody>\n",
       "    <tr>\n",
       "      <th>Defective</th>\n",
       "      <td>9</td>\n",
       "      <td>24</td>\n",
       "    </tr>\n",
       "    <tr>\n",
       "      <th>Error Free</th>\n",
       "      <td>22</td>\n",
       "      <td>245</td>\n",
       "    </tr>\n",
       "  </tbody>\n",
       "</table>\n",
       "</div>"
      ],
      "text/plain": [
       "Malta       Defective  Error Free\n",
       "Indonesia                        \n",
       "Defective           9          24\n",
       "Error Free         22         245"
      ]
     },
     "execution_count": 31,
     "metadata": {},
     "output_type": "execute_result"
    }
   ],
   "source": [
    "i_m = pd.crosstab(index=data1['Indonesia'] ,columns=data1['Malta'])\n",
    "i_m"
   ]
  },
  {
   "cell_type": "code",
   "execution_count": 45,
   "id": "cba49fe9",
   "metadata": {},
   "outputs": [],
   "source": [
    "chi_val2,pval2,df2,expected_value2 = stats.chi2_contingency(i_m)"
   ]
  },
  {
   "cell_type": "code",
   "execution_count": 46,
   "id": "6db3635f",
   "metadata": {},
   "outputs": [
    {
     "name": "stdout",
     "output_type": "stream",
     "text": [
      "chi_squared value: 9.52050868943337 \n",
      " pval: 0.0020318825161213722 \n",
      " Degrees of Freedom: 1\n",
      " Expected Value: [[  3.41  29.59]\n",
      " [ 27.59 239.41]]\n"
     ]
    }
   ],
   "source": [
    "print('chi_squared value: {} \\n pval: {} \\n Degrees of Freedom: {}\\n Expected Value: {}'.format(chi_val2,pval2,df2,expected_value2))"
   ]
  },
  {
   "cell_type": "code",
   "execution_count": 67,
   "id": "d7c574ff",
   "metadata": {},
   "outputs": [
    {
     "name": "stdout",
     "output_type": "stream",
     "text": [
      "We reject the null hypothesis saying that there is a signifiacnt difference in defective percentage in the four centers. \n"
     ]
    }
   ],
   "source": [
    "if pval2<= 0.05:\n",
    "    print('We reject the null hypothesis saying that there is a signifiacnt difference in defective percentage in the four centers. ')\n",
    "else:\n",
    "    print('We do not reject the null hypothesis saying that there is no signifiacnt difference in defective percentage in the four centers')"
   ]
  },
  {
   "cell_type": "code",
   "execution_count": 37,
   "id": "828efe84",
   "metadata": {},
   "outputs": [
    {
     "data": {
      "text/html": [
       "<div>\n",
       "<style scoped>\n",
       "    .dataframe tbody tr th:only-of-type {\n",
       "        vertical-align: middle;\n",
       "    }\n",
       "\n",
       "    .dataframe tbody tr th {\n",
       "        vertical-align: top;\n",
       "    }\n",
       "\n",
       "    .dataframe thead th {\n",
       "        text-align: right;\n",
       "    }\n",
       "</style>\n",
       "<table border=\"1\" class=\"dataframe\">\n",
       "  <thead>\n",
       "    <tr style=\"text-align: right;\">\n",
       "      <th>India</th>\n",
       "      <th>Defective</th>\n",
       "      <th>Error Free</th>\n",
       "    </tr>\n",
       "    <tr>\n",
       "      <th>Malta</th>\n",
       "      <th></th>\n",
       "      <th></th>\n",
       "    </tr>\n",
       "  </thead>\n",
       "  <tbody>\n",
       "    <tr>\n",
       "      <th>Defective</th>\n",
       "      <td>0</td>\n",
       "      <td>31</td>\n",
       "    </tr>\n",
       "    <tr>\n",
       "      <th>Error Free</th>\n",
       "      <td>20</td>\n",
       "      <td>249</td>\n",
       "    </tr>\n",
       "  </tbody>\n",
       "</table>\n",
       "</div>"
      ],
      "text/plain": [
       "India       Defective  Error Free\n",
       "Malta                            \n",
       "Defective           0          31\n",
       "Error Free         20         249"
      ]
     },
     "execution_count": 37,
     "metadata": {},
     "output_type": "execute_result"
    }
   ],
   "source": [
    "m_i = pd.crosstab(index=data1['Malta'] ,columns=data1['India'])\n",
    "m_i"
   ]
  },
  {
   "cell_type": "code",
   "execution_count": 43,
   "id": "fae12cad",
   "metadata": {},
   "outputs": [
    {
     "data": {
      "text/plain": [
       "(1.419106436194816,\n",
       " 0.23355053527979247,\n",
       " 1,\n",
       " array([[  2.06666667,  28.93333333],\n",
       "        [ 17.93333333, 251.06666667]]))"
      ]
     },
     "execution_count": 43,
     "metadata": {},
     "output_type": "execute_result"
    }
   ],
   "source": [
    "chi_val1,pval1,df1,expected_value1 = stats.chi2_contingency(m_i)\n",
    "chi_val1,pval1,df1,expected_value1"
   ]
  },
  {
   "cell_type": "code",
   "execution_count": 44,
   "id": "afda8caf",
   "metadata": {},
   "outputs": [
    {
     "name": "stdout",
     "output_type": "stream",
     "text": [
      "chi_squared value: 1.419106436194816 \n",
      " pval: 0.23355053527979247 \n",
      " Degrees of Freedom: 1\n",
      " Expected Value: [[  2.06666667  28.93333333]\n",
      " [ 17.93333333 251.06666667]]\n"
     ]
    }
   ],
   "source": [
    "print('chi_squared value: {} \\n pval: {} \\n Degrees of Freedom: {}\\n Expected Value: {}'.format(chi_val1,pval1,df1,expected_value1))"
   ]
  },
  {
   "cell_type": "code",
   "execution_count": 68,
   "id": "a8cfe4d7",
   "metadata": {},
   "outputs": [
    {
     "name": "stdout",
     "output_type": "stream",
     "text": [
      "We do not reject the null hypothesis saying that there is no signifiacnt difference in defective percentage in the four centers\n"
     ]
    }
   ],
   "source": [
    "if pval1<= 0.05:\n",
    "    print('We reject the null hypothesis saying that there is a signifiacnt difference in defective percentage in the four centers. ')\n",
    "else:\n",
    "    print('We do not reject the null hypothesis saying that there is no signifiacnt difference in defective percentage in the four centers')"
   ]
  },
  {
   "cell_type": "markdown",
   "id": "c23cfa32",
   "metadata": {},
   "source": [
    "## 2. Conclusion"
   ]
  },
  {
   "cell_type": "code",
   "execution_count": null,
   "id": "07edc04a",
   "metadata": {},
   "outputs": [],
   "source": [
    "# p-val after comparing each region with the another came out to be greater than 0.05 except for indonesia and malta.The p-val\n",
    "# for indonesia and malta is 0.02 which is smaller than 0.05. Hence, we can reject the null hypothesis and conculde that there\n",
    "# is significant difference in the defective percentage in the four centers. "
   ]
  }
 ],
 "metadata": {
  "kernelspec": {
   "display_name": "Python 3",
   "language": "python",
   "name": "python3"
  },
  "language_info": {
   "codemirror_mode": {
    "name": "ipython",
    "version": 3
   },
   "file_extension": ".py",
   "mimetype": "text/x-python",
   "name": "python",
   "nbconvert_exporter": "python",
   "pygments_lexer": "ipython3",
   "version": "3.8.8"
  }
 },
 "nbformat": 4,
 "nbformat_minor": 5
}
