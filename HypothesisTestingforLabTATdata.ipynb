{
 "cells": [
  {
   "cell_type": "markdown",
   "id": "676f3fd6",
   "metadata": {},
   "source": [
    "## 1. Data Understanding"
   ]
  },
  {
   "cell_type": "code",
   "execution_count": 1,
   "id": "47337829",
   "metadata": {},
   "outputs": [],
   "source": [
    "import pandas as pd"
   ]
  },
  {
   "cell_type": "code",
   "execution_count": 4,
   "id": "87bdb8f2",
   "metadata": {},
   "outputs": [
    {
     "data": {
      "text/html": [
       "<div>\n",
       "<style scoped>\n",
       "    .dataframe tbody tr th:only-of-type {\n",
       "        vertical-align: middle;\n",
       "    }\n",
       "\n",
       "    .dataframe tbody tr th {\n",
       "        vertical-align: top;\n",
       "    }\n",
       "\n",
       "    .dataframe thead th {\n",
       "        text-align: right;\n",
       "    }\n",
       "</style>\n",
       "<table border=\"1\" class=\"dataframe\">\n",
       "  <thead>\n",
       "    <tr style=\"text-align: right;\">\n",
       "      <th></th>\n",
       "      <th>Laboratory 1</th>\n",
       "      <th>Laboratory 2</th>\n",
       "      <th>Laboratory 3</th>\n",
       "      <th>Laboratory 4</th>\n",
       "    </tr>\n",
       "  </thead>\n",
       "  <tbody>\n",
       "    <tr>\n",
       "      <th>0</th>\n",
       "      <td>185.35</td>\n",
       "      <td>165.53</td>\n",
       "      <td>176.70</td>\n",
       "      <td>166.13</td>\n",
       "    </tr>\n",
       "    <tr>\n",
       "      <th>1</th>\n",
       "      <td>170.49</td>\n",
       "      <td>185.91</td>\n",
       "      <td>198.45</td>\n",
       "      <td>160.79</td>\n",
       "    </tr>\n",
       "    <tr>\n",
       "      <th>2</th>\n",
       "      <td>192.77</td>\n",
       "      <td>194.92</td>\n",
       "      <td>201.23</td>\n",
       "      <td>185.18</td>\n",
       "    </tr>\n",
       "    <tr>\n",
       "      <th>3</th>\n",
       "      <td>177.33</td>\n",
       "      <td>183.00</td>\n",
       "      <td>199.61</td>\n",
       "      <td>176.42</td>\n",
       "    </tr>\n",
       "    <tr>\n",
       "      <th>4</th>\n",
       "      <td>193.41</td>\n",
       "      <td>169.57</td>\n",
       "      <td>204.63</td>\n",
       "      <td>152.60</td>\n",
       "    </tr>\n",
       "  </tbody>\n",
       "</table>\n",
       "</div>"
      ],
      "text/plain": [
       "   Laboratory 1  Laboratory 2  Laboratory 3  Laboratory 4\n",
       "0        185.35        165.53        176.70        166.13\n",
       "1        170.49        185.91        198.45        160.79\n",
       "2        192.77        194.92        201.23        185.18\n",
       "3        177.33        183.00        199.61        176.42\n",
       "4        193.41        169.57        204.63        152.60"
      ]
     },
     "execution_count": 4,
     "metadata": {},
     "output_type": "execute_result"
    }
   ],
   "source": [
    "data1 = pd.read_csv('LabTAT.csv',sep=',')\n",
    "data1.head()"
   ]
  },
  {
   "cell_type": "code",
   "execution_count": 5,
   "id": "874013c5",
   "metadata": {},
   "outputs": [
    {
     "data": {
      "text/plain": [
       "(120, 4)"
      ]
     },
     "execution_count": 5,
     "metadata": {},
     "output_type": "execute_result"
    }
   ],
   "source": [
    "data1.shape"
   ]
  },
  {
   "cell_type": "code",
   "execution_count": 6,
   "id": "b697beb8",
   "metadata": {},
   "outputs": [
    {
     "data": {
      "text/plain": [
       "Laboratory 1    0\n",
       "Laboratory 2    0\n",
       "Laboratory 3    0\n",
       "Laboratory 4    0\n",
       "dtype: int64"
      ]
     },
     "execution_count": 6,
     "metadata": {},
     "output_type": "execute_result"
    }
   ],
   "source": [
    "data1.isnull().sum()"
   ]
  },
  {
   "cell_type": "code",
   "execution_count": 7,
   "id": "20ff6414",
   "metadata": {},
   "outputs": [
    {
     "data": {
      "text/plain": [
       "Laboratory 1    float64\n",
       "Laboratory 2    float64\n",
       "Laboratory 3    float64\n",
       "Laboratory 4    float64\n",
       "dtype: object"
      ]
     },
     "execution_count": 7,
     "metadata": {},
     "output_type": "execute_result"
    }
   ],
   "source": [
    "data1.dtypes"
   ]
  },
  {
   "cell_type": "markdown",
   "id": "9d3d752b",
   "metadata": {},
   "source": [
    "## 2. Hypothesis Formulation"
   ]
  },
  {
   "cell_type": "code",
   "execution_count": null,
   "id": "259f2a9b",
   "metadata": {},
   "outputs": [],
   "source": [
    "## H0 = There is no signifiacnt difference in the average Turn Around Time of reports of the laboratories\n",
    "## Ha = There is a signifiacnt difference in the average Turn Around Time of reports of the laboratories"
   ]
  },
  {
   "cell_type": "markdown",
   "id": "91d9d01b",
   "metadata": {},
   "source": [
    "##  3. Significance level = 0.05"
   ]
  },
  {
   "cell_type": "markdown",
   "id": "77014f3f",
   "metadata": {},
   "source": [
    "## 4. I will use 'ANNOVA' test since we need to compare averages of more than 2 samples or 2 groups"
   ]
  },
  {
   "cell_type": "markdown",
   "id": "11a13f47",
   "metadata": {},
   "source": [
    "## 5. p-value calculation "
   ]
  },
  {
   "cell_type": "code",
   "execution_count": 14,
   "id": "4396fe9e",
   "metadata": {},
   "outputs": [],
   "source": [
    "x = data1['Laboratory 1']\n",
    "y = data1['Laboratory 2']\n",
    "z = data1['Laboratory 3']\n",
    "k = data1['Laboratory 4']"
   ]
  },
  {
   "cell_type": "code",
   "execution_count": 8,
   "id": "09bfddcb",
   "metadata": {},
   "outputs": [],
   "source": [
    "from scipy.stats import f_oneway"
   ]
  },
  {
   "cell_type": "code",
   "execution_count": 16,
   "id": "22101128",
   "metadata": {},
   "outputs": [
    {
     "data": {
      "text/plain": [
       "2.1156708949992414e-57"
      ]
     },
     "execution_count": 16,
     "metadata": {},
     "output_type": "execute_result"
    }
   ],
   "source": [
    "num,pval = f_oneway(x,y,z,k)\n",
    "pval"
   ]
  },
  {
   "cell_type": "markdown",
   "id": "becfc9b1",
   "metadata": {},
   "source": [
    "## 6.  Conclusion"
   ]
  },
  {
   "cell_type": "code",
   "execution_count": 18,
   "id": "4a3909fb",
   "metadata": {},
   "outputs": [
    {
     "name": "stdout",
     "output_type": "stream",
     "text": [
      "We reject the null hypothesis saying that there is a signifiacnt difference in the average Turn Around Time of reports of the laboratories\n"
     ]
    }
   ],
   "source": [
    "if pval<= 0.05:\n",
    "    print('We reject the null hypothesis saying that there is a signifiacnt difference in the average Turn Around Time of reports of the laboratories')\n",
    "else:\n",
    "    print('We do not reject the null hypothesis saying that there is no signifiacnt difference in the average Turn Around Time of reports of the laboratories')"
   ]
  },
  {
   "cell_type": "code",
   "execution_count": null,
   "id": "649552fb",
   "metadata": {},
   "outputs": [],
   "source": [
    "## Since pval is smaller than 0.05, we can reject the null hypothesis and can say that there is a siginificant difference in the\n",
    "## average Turn Around Time of reports of the laboratories"
   ]
  }
 ],
 "metadata": {
  "kernelspec": {
   "display_name": "Python 3",
   "language": "python",
   "name": "python3"
  },
  "language_info": {
   "codemirror_mode": {
    "name": "ipython",
    "version": 3
   },
   "file_extension": ".py",
   "mimetype": "text/x-python",
   "name": "python",
   "nbconvert_exporter": "python",
   "pygments_lexer": "ipython3",
   "version": "3.8.8"
  }
 },
 "nbformat": 4,
 "nbformat_minor": 5
}
